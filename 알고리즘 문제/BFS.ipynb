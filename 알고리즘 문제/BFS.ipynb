{
 "cells": [
  {
   "cell_type": "code",
   "execution_count": null,
   "metadata": {},
   "outputs": [],
   "source": []
  },
  {
   "cell_type": "markdown",
   "metadata": {},
   "source": [
    "BFS 특징\n",
    "1. Queue를 사용하여 구현 ---> deque 모듈 사용\n",
    "2. **거리가 같은 노드를 탐색한 후 , 그 다음 깊이의 노드로 이동---> level 순서로 탐색한다.** \n",
    "3. 최단 경로 문제를 해결하는데 사용. --> 우선순위 큐 -->다익스트라 \n",
    "\n",
    "![alt text](image.png)\n",
    "\n",
    "출력 결과순서는 1 2 3 4 5 7 6 이다. \n",
    "\n",
    "인접행렬 그래프의 구조를 나타낸 2차원 리스트. ---> 노드 간의 연결 관계, 노드 i와 j가 연결 되어있다. 1, 아니면 0 "
   ]
  },
  {
   "cell_type": "code",
   "execution_count": null,
   "metadata": {},
   "outputs": [],
   "source": []
  }
 ],
 "metadata": {
  "language_info": {
   "name": "python"
  }
 },
 "nbformat": 4,
 "nbformat_minor": 2
}

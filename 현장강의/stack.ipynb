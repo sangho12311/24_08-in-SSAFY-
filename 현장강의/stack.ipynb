{
 "cells": [
  {
   "cell_type": "code",
   "execution_count": null,
   "metadata": {},
   "outputs": [],
   "source": [
    "def check(arr):\n",
    "    stack = []\n",
    "    for i in arr[:-1]: # 마지막 \".\" 제외하고 순회 \n",
    "        if i.isdecimal():\n",
    "            stack.append(int(i))\n",
    "        elif i in {'+', '-', '*','/'}:\n",
    "            if len(stack)<2: #스택에 숫자가 2개 미만이면 return 에러\n",
    "                return 'error'\n",
    "            b=stack.pop() # 두 번째 숫자 \n",
    "            a=stack.pop()\n",
    "            if i== '+' : stack.append(a+b)\n",
    "            elif i=='-': stack.append(a-b)\n",
    "            elif i=='*': stack.append(a*b)\n",
    "            elif i=='/': stack.append(a//b)\n",
    "    if len(stack) != 1:\n",
    "        return 'error'\n",
    "    \n",
    "    return stack[0]  #최종 결과 반환 \n",
    "\n",
    "\n",
    "T=int(input())\n",
    "for tc in range(1,T+1):\n",
    "    F = input.split()\n",
    "    result = check(F)\n",
    "    print(f'#{tc} {result}')"
   ]
  },
  {
   "cell_type": "code",
   "execution_count": null,
   "metadata": {},
   "outputs": [],
   "source": [
    "def maze():\n",
    "    while stack:\n",
    "        y,x = stack.pop() #현재위치\n",
    "        arr[y][x] = -1\n",
    "        dir = [(0,1),(1,0),(-1,0),(0,-1)]\n",
    "        for dy,dx in dir:\n",
    "            ny,nx = y + dy, x + dx\n",
    "            if 0 <= ny < N and 0 <= nx < N:\n",
    "                if arr[ny][nx] ==3: # 도착점을 찾으면 \n",
    "                    return 1 #1 \n",
    "                elif arr[ny][nx] == 0:# 갈 수 있는 곳이다 --> stack에 추가 \n",
    "                    stack.append((ny,nx))\n",
    "    return 0 # 도착점을 찾지 못하면 0\n",
    "\n",
    "T = int(input())\n",
    "for tc in range(1, T+ 1):\n",
    "    N = int(input())\n",
    "    arr=[list(map(int,input())) for _ in range(N)]\n",
    "    for y in range(N):\n",
    "        for x in range(N):\n",
    "            # 시작점 찾기\n",
    "            if arr[y][x] == 2: #시작점\n",
    "                stack = [(y , x)]\n",
    "                break # 시작점을 찾은 후 더이상 미로의 모든 칸을 순회할 필요가 없다. \n",
    "    print()"
   ]
  }
 ],
 "metadata": {
  "language_info": {
   "name": "python"
  }
 },
 "nbformat": 4,
 "nbformat_minor": 2
}
